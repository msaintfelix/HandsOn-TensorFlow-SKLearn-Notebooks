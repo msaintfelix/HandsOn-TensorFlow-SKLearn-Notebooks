{
 "cells": [
  {
   "cell_type": "code",
   "execution_count": 1,
   "metadata": {},
   "outputs": [],
   "source": [
    "import tensorflow as tf\n",
    "from tensorflow import keras\n",
    "import matplotlib.pyplot as plt\n",
    "import pandas as pd\n",
    "import numpy as np"
   ]
  },
  {
   "cell_type": "code",
   "execution_count": 2,
   "metadata": {},
   "outputs": [
    {
     "data": {
      "text/plain": [
       "'2.10.0'"
      ]
     },
     "execution_count": 2,
     "metadata": {},
     "output_type": "execute_result"
    }
   ],
   "source": [
    "tf.__version__"
   ]
  },
  {
   "cell_type": "code",
   "execution_count": 3,
   "metadata": {},
   "outputs": [
    {
     "name": "stdout",
     "output_type": "stream",
     "text": [
      "TensorFlow has access to the following devices:\n",
      ". PhysicalDevice(name='/physical_device:CPU:0', device_type='CPU')\n",
      ". PhysicalDevice(name='/physical_device:GPU:0', device_type='GPU')\n"
     ]
    }
   ],
   "source": [
    "print(\"TensorFlow has access to the following devices:\")\n",
    "for device in tf.config.list_physical_devices():\n",
    "    print(f\". {device}\")"
   ]
  },
  {
   "cell_type": "markdown",
   "metadata": {},
   "source": [
    "Let's load the Fashion MNIST dataset from Keras:"
   ]
  },
  {
   "cell_type": "code",
   "execution_count": 4,
   "metadata": {},
   "outputs": [],
   "source": [
    "fashion_mnist = keras.datasets.fashion_mnist"
   ]
  },
  {
   "cell_type": "code",
   "execution_count": 5,
   "metadata": {},
   "outputs": [
    {
     "name": "stdout",
     "output_type": "stream",
     "text": [
      "Downloading data from https://storage.googleapis.com/tensorflow/tf-keras-datasets/train-labels-idx1-ubyte.gz\n",
      "29515/29515 [==============================] - 0s 1us/step\n",
      "Downloading data from https://storage.googleapis.com/tensorflow/tf-keras-datasets/train-images-idx3-ubyte.gz\n",
      "26421880/26421880 [==============================] - 0s 0us/step\n",
      "Downloading data from https://storage.googleapis.com/tensorflow/tf-keras-datasets/t10k-labels-idx1-ubyte.gz\n",
      "5148/5148 [==============================] - 0s 0us/step\n",
      "Downloading data from https://storage.googleapis.com/tensorflow/tf-keras-datasets/t10k-images-idx3-ubyte.gz\n",
      "4422102/4422102 [==============================] - 0s 0us/step\n"
     ]
    }
   ],
   "source": [
    "(X_train_full, y_train_full), (X_test, y_test) = fashion_mnist.load_data()"
   ]
  },
  {
   "cell_type": "markdown",
   "metadata": {},
   "source": [
    "Our training set consists of 60000 greyscale images (each pixel is an integer that ranges from 0 to 255), size 28x28."
   ]
  },
  {
   "cell_type": "code",
   "execution_count": 6,
   "metadata": {},
   "outputs": [
    {
     "name": "stdout",
     "output_type": "stream",
     "text": [
      "(60000, 28, 28)\n",
      "(60000,)\n"
     ]
    },
    {
     "data": {
      "text/plain": [
       "dtype('uint8')"
      ]
     },
     "execution_count": 6,
     "metadata": {},
     "output_type": "execute_result"
    }
   ],
   "source": [
    "print(X_train_full.shape)\n",
    "print(y_train_full.shape)\n",
    "X_train_full.dtype"
   ]
  },
  {
   "cell_type": "markdown",
   "metadata": {},
   "source": [
    "Our test set consists of 10000 greyscale images (each pixel is an integer that ranges from 0 to 255), size 28x28."
   ]
  },
  {
   "cell_type": "code",
   "execution_count": 7,
   "metadata": {},
   "outputs": [
    {
     "name": "stdout",
     "output_type": "stream",
     "text": [
      "(10000, 28, 28)\n",
      "(10000,)\n"
     ]
    },
    {
     "data": {
      "text/plain": [
       "dtype('uint8')"
      ]
     },
     "execution_count": 7,
     "metadata": {},
     "output_type": "execute_result"
    }
   ],
   "source": [
    "print(X_test.shape)\n",
    "print(y_test.shape)\n",
    "X_test.dtype"
   ]
  },
  {
   "cell_type": "markdown",
   "metadata": {},
   "source": [
    "As a best practice, it is important to create a validation set (we already have a training set and a test set). Also we are going to scale the input features (each pixel divided by 255.0) in order to use gradient descent properly."
   ]
  },
  {
   "cell_type": "code",
   "execution_count": 8,
   "metadata": {},
   "outputs": [],
   "source": [
    "X_valid, X_train = X_train_full[:5000]/255.0, X_train_full[5000:]/255.0\n",
    "y_valid, y_train = y_train_full[:5000], y_train_full[5000:]\n",
    "X_test = X_test/255.0"
   ]
  },
  {
   "cell_type": "markdown",
   "metadata": {},
   "source": [
    "Let's visualize one example of the training set:"
   ]
  },
  {
   "cell_type": "code",
   "execution_count": 9,
   "metadata": {},
   "outputs": [
    {
     "data": {
      "text/plain": [
       "<matplotlib.image.AxesImage at 0x178f28cd0>"
      ]
     },
     "execution_count": 9,
     "metadata": {},
     "output_type": "execute_result"
    },
    {
     "data": {
      "image/png": "[encoded data removed]",
      "text/plain": [
       "<Figure size 640x480 with 1 Axes>"
      ]
     },
     "metadata": {},
     "output_type": "display_data"
    }
   ],
   "source": [
    "plt.imshow(X_train[30], cmap='binary')"
   ]
  },
  {
   "cell_type": "markdown",
   "metadata": {},
   "source": [
    "Let's initialize a list of class names for MNIST (details of the dataset available via google):"
   ]
  },
  {
   "cell_type": "code",
   "execution_count": 10,
   "metadata": {},
   "outputs": [],
   "source": [
    "class_names = [\"T-shirt\", \"Trouser\", \"Pullover\", \"Dress\", \"Coat\", \"Sandal\", \"Shirt\", \"Sneaker\", \"Bag\", \"Boot\"]"
   ]
  },
  {
   "cell_type": "markdown",
   "metadata": {},
   "source": [
    "Now let's define our architecture by passing a list of layers to the Sequential model:"
   ]
  },
  {
   "cell_type": "code",
   "execution_count": 11,
   "metadata": {},
   "outputs": [
    {
     "name": "stdout",
     "output_type": "stream",
     "text": [
      "Metal device set to: Apple M1 Max\n"
     ]
    },
    {
     "name": "stderr",
     "output_type": "stream",
     "text": [
      "2022-10-23 20:07:50.326298: I tensorflow/core/common_runtime/pluggable_device/pluggable_device_factory.cc:306] Could not identify NUMA node of platform GPU ID 0, defaulting to 0. Your kernel may not have been built with NUMA support.\n",
      "2022-10-23 20:07:50.326463: I tensorflow/core/common_runtime/pluggable_device/pluggable_device_factory.cc:272] Created TensorFlow device (/job:localhost/replica:0/task:0/device:GPU:0 with 0 MB memory) -> physical PluggableDevice (device: 0, name: METAL, pci bus id: <undefined>)\n"
     ]
    }
   ],
   "source": [
    "model = keras.models.Sequential([\n",
    "    keras.layers.Flatten(input_shape=[28,28]),\n",
    "    keras.layers.Dense(300, activation='relu'),\n",
    "    keras.layers.Dense(100, activation='relu'),\n",
    "    keras.layers.Dense(10, activation='softmax')\n",
    "])"
   ]
  },
  {
   "cell_type": "markdown",
   "metadata": {},
   "source": [
    "Note: the Flatten() layer computes X.reshape(-1, 28*28)"
   ]
  },
  {
   "cell_type": "code",
   "execution_count": 12,
   "metadata": {
    "scrolled": true
   },
   "outputs": [
    {
     "name": "stdout",
     "output_type": "stream",
     "text": [
      "Model: \"sequential\"\n",
      "_________________________________________________________________\n",
      " Layer (type)                Output Shape              Param #   \n",
      "=================================================================\n",
      " flatten (Flatten)           (None, 784)               0         \n",
      "                                                                 \n",
      " dense (Dense)               (None, 300)               235500    \n",
      "                                                                 \n",
      " dense_1 (Dense)             (None, 100)               30100     \n",
      "                                                                 \n",
      " dense_2 (Dense)             (None, 10)                1010      \n",
      "                                                                 \n",
      "=================================================================\n",
      "Total params: 266,610\n",
      "Trainable params: 266,610\n",
      "Non-trainable params: 0\n",
      "_________________________________________________________________\n"
     ]
    }
   ],
   "source": [
    "model.summary()"
   ]
  },
  {
   "cell_type": "markdown",
   "metadata": {},
   "source": [
    "List of layers:"
   ]
  },
  {
   "cell_type": "code",
   "execution_count": 13,
   "metadata": {},
   "outputs": [
    {
     "data": {
      "text/plain": [
       "[<keras.layers.reshaping.flatten.Flatten at 0x178d9afa0>,\n",
       " <keras.layers.core.dense.Dense at 0x17902be20>,\n",
       " <keras.layers.core.dense.Dense at 0x17902bc40>,\n",
       " <keras.layers.core.dense.Dense at 0x178fcad00>]"
      ]
     },
     "execution_count": 13,
     "metadata": {},
     "output_type": "execute_result"
    }
   ],
   "source": [
    "model.layers"
   ]
  },
  {
   "cell_type": "markdown",
   "metadata": {},
   "source": [
    "Let's compile our model using a multi-label loss function: 'sparse_categorical_crossentropy' (as the classes are not one-hot-encoded). We are using a Stochastic Gradient Descent  with a default learning rate lr=0.01 to optimize 'accuracy' of our model:"
   ]
  },
  {
   "cell_type": "code",
   "execution_count": 14,
   "metadata": {},
   "outputs": [],
   "source": [
    "model.compile(loss=\"sparse_categorical_crossentropy\", optimizer=\"sgd\", metrics=[\"accuracy\"])"
   ]
  },
  {
   "cell_type": "markdown",
   "metadata": {},
   "source": [
    "Let's train our model on 30 epochs. We will pass the argument 'validation_data' on which Keras will measure the loss and accuracy at the end of each epoch to update all 266 610 parameters using Stochastic Gradient Descent. The default size of a batch is 32, each epoch will consists of 1719 batches of 32 examples to go through all 55000 examples every time. The model does not train on validation data but uses it to evaluate its performance and update parameters. Also, let's create a Callback that will save model checkpoints (in case of incidental interruption) and perform early stopping in case there is no more progress (after 3 epochs)."
   ]
  },
  {
   "cell_type": "code",
   "execution_count": 15,
   "metadata": {},
   "outputs": [],
   "source": [
    "checkpoint_cb = keras.callbacks.ModelCheckpoint(\"my_model.h5\")\n",
    "early_stopping_cb = keras.callbacks.EarlyStopping(monitor=\"val_loss\", patience=10, restore_best_weights=True)"
   ]
  },
  {
   "cell_type": "code",
   "execution_count": 16,
   "metadata": {},
   "outputs": [
    {
     "name": "stdout",
     "output_type": "stream",
     "text": [
      "Epoch 1/60\n"
     ]
    },
    {
     "name": "stderr",
     "output_type": "stream",
     "text": [
      "2022-10-23 20:07:50.804394: W tensorflow/core/platform/profile_utils/cpu_utils.cc:128] Failed to get CPU frequency: 0 Hz\n",
      "2022-10-23 20:07:50.938175: I tensorflow/core/grappler/optimizers/custom_graph_optimizer_registry.cc:114] Plugin optimizer for device_type GPU is enabled.\n"
     ]
    },
    {
     "name": "stdout",
     "output_type": "stream",
     "text": [
      "1719/1719 [==============================] - ETA: 0s - loss: 0.7266 - accuracy: 0.7618"
     ]
    },
    {
     "name": "stderr",
     "output_type": "stream",
     "text": [
      "2022-10-23 20:08:01.389933: I tensorflow/core/grappler/optimizers/custom_graph_optimizer_registry.cc:114] Plugin optimizer for device_type GPU is enabled.\n"
     ]
    },
    {
     "name": "stdout",
     "output_type": "stream",
     "text": [
      "1719/1719 [==============================] - 11s 5ms/step - loss: 0.7266 - accuracy: 0.7618 - val_loss: 0.5297 - val_accuracy: 0.8188\n",
      "Epoch 2/60\n",
      "1719/1719 [==============================] - 9s 5ms/step - loss: 0.4904 - accuracy: 0.8279 - val_loss: 0.4655 - val_accuracy: 0.8400\n",
      "Epoch 3/60\n",
      "1719/1719 [==============================] - 9s 5ms/step - loss: 0.4458 - accuracy: 0.8437 - val_loss: 0.4268 - val_accuracy: 0.8486\n",
      "Epoch 4/60\n",
      "1719/1719 [==============================] - 9s 5ms/step - loss: 0.4175 - accuracy: 0.8538 - val_loss: 0.4054 - val_accuracy: 0.8620\n",
      "Epoch 5/60\n",
      "1719/1719 [==============================] - 9s 5ms/step - loss: 0.3993 - accuracy: 0.8598 - val_loss: 0.4033 - val_accuracy: 0.8616\n",
      "Epoch 6/60\n",
      "1719/1719 [==============================] - 9s 5ms/step - loss: 0.3834 - accuracy: 0.8644 - val_loss: 0.3651 - val_accuracy: 0.8752\n",
      "Epoch 7/60\n",
      "1719/1719 [==============================] - 9s 5ms/step - loss: 0.3687 - accuracy: 0.8693 - val_loss: 0.3619 - val_accuracy: 0.8764\n",
      "Epoch 8/60\n",
      "1719/1719 [==============================] - 9s 5ms/step - loss: 0.3573 - accuracy: 0.8741 - val_loss: 0.4058 - val_accuracy: 0.8600\n",
      "Epoch 9/60\n",
      "1719/1719 [==============================] - 9s 5ms/step - loss: 0.3469 - accuracy: 0.8768 - val_loss: 0.3717 - val_accuracy: 0.8680\n",
      "Epoch 10/60\n",
      "1719/1719 [==============================] - 9s 5ms/step - loss: 0.3378 - accuracy: 0.8806 - val_loss: 0.3641 - val_accuracy: 0.8734\n",
      "Epoch 11/60\n",
      "1719/1719 [==============================] - 9s 5ms/step - loss: 0.3291 - accuracy: 0.8818 - val_loss: 0.3415 - val_accuracy: 0.8810\n",
      "Epoch 12/60\n",
      "1719/1719 [==============================] - 9s 5ms/step - loss: 0.3210 - accuracy: 0.8846 - val_loss: 0.3364 - val_accuracy: 0.8852\n",
      "Epoch 13/60\n",
      "1719/1719 [==============================] - 9s 5ms/step - loss: 0.3139 - accuracy: 0.8878 - val_loss: 0.3277 - val_accuracy: 0.8856\n",
      "Epoch 14/60\n",
      "1719/1719 [==============================] - 9s 5ms/step - loss: 0.3057 - accuracy: 0.8908 - val_loss: 0.3366 - val_accuracy: 0.8824\n",
      "Epoch 15/60\n",
      "1719/1719 [==============================] - 9s 5ms/step - loss: 0.3006 - accuracy: 0.8922 - val_loss: 0.3436 - val_accuracy: 0.8774\n",
      "Epoch 16/60\n",
      "1719/1719 [==============================] - 9s 5ms/step - loss: 0.2941 - accuracy: 0.8938 - val_loss: 0.3251 - val_accuracy: 0.8794\n",
      "Epoch 17/60\n",
      "1719/1719 [==============================] - 9s 5ms/step - loss: 0.2877 - accuracy: 0.8953 - val_loss: 0.3303 - val_accuracy: 0.8874\n",
      "Epoch 18/60\n",
      "1719/1719 [==============================] - 9s 5ms/step - loss: 0.2820 - accuracy: 0.8978 - val_loss: 0.3143 - val_accuracy: 0.8928\n",
      "Epoch 19/60\n",
      "1719/1719 [==============================] - 9s 5ms/step - loss: 0.2767 - accuracy: 0.9000 - val_loss: 0.3187 - val_accuracy: 0.8902\n",
      "Epoch 20/60\n",
      "1719/1719 [==============================] - 9s 5ms/step - loss: 0.2711 - accuracy: 0.9029 - val_loss: 0.3158 - val_accuracy: 0.8828\n",
      "Epoch 21/60\n",
      "1719/1719 [==============================] - 9s 5ms/step - loss: 0.2671 - accuracy: 0.9037 - val_loss: 0.3336 - val_accuracy: 0.8834\n",
      "Epoch 22/60\n",
      "1719/1719 [==============================] - 9s 5ms/step - loss: 0.2615 - accuracy: 0.9054 - val_loss: 0.3117 - val_accuracy: 0.8898\n",
      "Epoch 23/60\n",
      "1719/1719 [==============================] - 9s 5ms/step - loss: 0.2572 - accuracy: 0.9077 - val_loss: 0.3240 - val_accuracy: 0.8836\n",
      "Epoch 24/60\n",
      "1719/1719 [==============================] - 9s 5ms/step - loss: 0.2538 - accuracy: 0.9092 - val_loss: 0.3073 - val_accuracy: 0.8936\n",
      "Epoch 25/60\n",
      "1719/1719 [==============================] - 9s 5ms/step - loss: 0.2487 - accuracy: 0.9107 - val_loss: 0.2977 - val_accuracy: 0.8940\n",
      "Epoch 26/60\n",
      "1719/1719 [==============================] - 9s 5ms/step - loss: 0.2442 - accuracy: 0.9107 - val_loss: 0.2943 - val_accuracy: 0.8924\n",
      "Epoch 27/60\n",
      "1719/1719 [==============================] - 9s 5ms/step - loss: 0.2406 - accuracy: 0.9131 - val_loss: 0.2961 - val_accuracy: 0.8904\n",
      "Epoch 28/60\n",
      "1719/1719 [==============================] - 9s 5ms/step - loss: 0.2360 - accuracy: 0.9153 - val_loss: 0.2981 - val_accuracy: 0.8904\n",
      "Epoch 29/60\n",
      "1719/1719 [==============================] - 9s 5ms/step - loss: 0.2321 - accuracy: 0.9173 - val_loss: 0.3135 - val_accuracy: 0.8872\n",
      "Epoch 30/60\n",
      "1719/1719 [==============================] - 9s 5ms/step - loss: 0.2278 - accuracy: 0.9174 - val_loss: 0.3247 - val_accuracy: 0.8838\n",
      "Epoch 31/60\n",
      "1719/1719 [==============================] - 9s 5ms/step - loss: 0.2244 - accuracy: 0.9203 - val_loss: 0.3039 - val_accuracy: 0.8918\n",
      "Epoch 32/60\n",
      "1719/1719 [==============================] - 9s 5ms/step - loss: 0.2214 - accuracy: 0.9207 - val_loss: 0.3075 - val_accuracy: 0.8928\n",
      "Epoch 33/60\n",
      "1719/1719 [==============================] - 9s 5ms/step - loss: 0.2184 - accuracy: 0.9222 - val_loss: 0.3059 - val_accuracy: 0.8882\n",
      "Epoch 34/60\n",
      "1719/1719 [==============================] - 9s 5ms/step - loss: 0.2140 - accuracy: 0.9235 - val_loss: 0.2877 - val_accuracy: 0.8978\n",
      "Epoch 35/60\n",
      "1719/1719 [==============================] - 9s 5ms/step - loss: 0.2111 - accuracy: 0.9239 - val_loss: 0.3004 - val_accuracy: 0.8910\n",
      "Epoch 36/60\n",
      "1719/1719 [==============================] - 9s 5ms/step - loss: 0.2072 - accuracy: 0.9260 - val_loss: 0.3034 - val_accuracy: 0.8922\n",
      "Epoch 37/60\n",
      "1719/1719 [==============================] - 9s 5ms/step - loss: 0.2038 - accuracy: 0.9273 - val_loss: 0.3097 - val_accuracy: 0.8930\n",
      "Epoch 38/60\n",
      "1719/1719 [==============================] - 9s 5ms/step - loss: 0.2014 - accuracy: 0.9285 - val_loss: 0.2937 - val_accuracy: 0.8964\n",
      "Epoch 39/60\n",
      "1719/1719 [==============================] - 9s 5ms/step - loss: 0.1979 - accuracy: 0.9289 - val_loss: 0.3057 - val_accuracy: 0.8920\n",
      "Epoch 40/60\n",
      "1719/1719 [==============================] - 9s 5ms/step - loss: 0.1950 - accuracy: 0.9305 - val_loss: 0.3022 - val_accuracy: 0.8948\n",
      "Epoch 41/60\n",
      "1719/1719 [==============================] - 9s 5ms/step - loss: 0.1913 - accuracy: 0.9317 - val_loss: 0.3137 - val_accuracy: 0.8902\n",
      "Epoch 42/60\n",
      "1719/1719 [==============================] - 9s 5ms/step - loss: 0.1882 - accuracy: 0.9330 - val_loss: 0.2914 - val_accuracy: 0.8978\n",
      "Epoch 43/60\n",
      "1719/1719 [==============================] - 9s 5ms/step - loss: 0.1858 - accuracy: 0.9327 - val_loss: 0.3182 - val_accuracy: 0.8846\n",
      "Epoch 44/60\n",
      "1719/1719 [==============================] - 9s 5ms/step - loss: 0.1821 - accuracy: 0.9350 - val_loss: 0.2905 - val_accuracy: 0.8960\n"
     ]
    }
   ],
   "source": [
    "history = model.fit(X_train, y_train, epochs=60, validation_data=(X_valid, y_valid), callbacks=[checkpoint_cb, early_stopping_cb])"
   ]
  },
  {
   "cell_type": "code",
   "execution_count": 17,
   "metadata": {},
   "outputs": [
    {
     "data": {
      "text/plain": [
       "<AxesSubplot:>"
      ]
     },
     "execution_count": 17,
     "metadata": {},
     "output_type": "execute_result"
    },
    {
     "data": {
      "image/png": "[encoded data removed]",
      "text/plain": [
       "<Figure size 800x500 with 1 Axes>"
      ]
     },
     "metadata": {},
     "output_type": "display_data"
    }
   ],
   "source": [
    "pd.DataFrame(history.history).plot(figsize=(8,5))"
   ]
  },
  {
   "cell_type": "markdown",
   "metadata": {},
   "source": [
    "We can observe that training stopped at epoch 38/60, due to lack of progress of the val_loss metric. The training and validation metrics remain in similar performance ranges, indicating there is no overfitting and our model is acceptable."
   ]
  },
  {
   "cell_type": "code",
   "execution_count": 18,
   "metadata": {},
   "outputs": [],
   "source": [
    "# Roll back the model in case of incidental training interruption:\n",
    "#model = keras.models.load_model(\"my_model.h5\")"
   ]
  },
  {
   "cell_type": "markdown",
   "metadata": {},
   "source": [
    "Let's estimate the generalization error on the test set:"
   ]
  },
  {
   "cell_type": "code",
   "execution_count": 19,
   "metadata": {},
   "outputs": [
    {
     "name": "stdout",
     "output_type": "stream",
     "text": [
      "313/313 [==============================] - 1s 5ms/step - loss: 0.3211 - accuracy: 0.8858\n"
     ]
    },
    {
     "data": {
      "text/plain": [
       "[0.3211406171321869, 0.8858000636100769]"
      ]
     },
     "execution_count": 19,
     "metadata": {},
     "output_type": "execute_result"
    }
   ],
   "source": [
    "model.evaluate(X_test, y_test)"
   ]
  },
  {
   "cell_type": "markdown",
   "metadata": {},
   "source": [
    "This resulat is final and gives a clear indication of performance with real-world production data."
   ]
  },
  {
   "cell_type": "markdown",
   "metadata": {},
   "source": [
    "Let's make predictions for a few instances:"
   ]
  },
  {
   "cell_type": "code",
   "execution_count": 20,
   "metadata": {},
   "outputs": [
    {
     "name": "stdout",
     "output_type": "stream",
     "text": [
      "1/1 [==============================] - 0s 117ms/step\n"
     ]
    },
    {
     "name": "stderr",
     "output_type": "stream",
     "text": [
      "2022-10-23 20:14:23.730549: I tensorflow/core/grappler/optimizers/custom_graph_optimizer_registry.cc:114] Plugin optimizer for device_type GPU is enabled.\n"
     ]
    },
    {
     "data": {
      "text/plain": [
       "array([[0.  , 0.  , 0.  , 0.  , 0.  , 0.  , 0.  , 0.  , 0.  , 0.99],\n",
       "       [0.  , 0.  , 0.99, 0.  , 0.01, 0.  , 0.  , 0.  , 0.  , 0.  ],\n",
       "       [0.  , 1.  , 0.  , 0.  , 0.  , 0.  , 0.  , 0.  , 0.  , 0.  ]],\n",
       "      dtype=float32)"
      ]
     },
     "execution_count": 20,
     "metadata": {},
     "output_type": "execute_result"
    }
   ],
   "source": [
    "y_pred = model.predict(X_test[:3])\n",
    "y_pred = y_pred.round(2)\n",
    "y_pred"
   ]
  },
  {
   "cell_type": "markdown",
   "metadata": {},
   "source": [
    "Each instance (row) shows a series of ten probabilities for all 10 classes, the highest column being the most likely class. Now let's convert them into class names:"
   ]
  },
  {
   "cell_type": "code",
   "execution_count": 21,
   "metadata": {},
   "outputs": [
    {
     "data": {
      "text/plain": [
       "array(['Boot', 'Pullover', 'Trouser'], dtype='<U8')"
      ]
     },
     "execution_count": 21,
     "metadata": {},
     "output_type": "execute_result"
    }
   ],
   "source": [
    "idx = np.argmax(y_pred, axis=1)\n",
    "np.array(class_names)[idx]"
   ]
  },
  {
   "cell_type": "markdown",
   "metadata": {},
   "source": [
    "Let's compare these predictions to ground truth:"
   ]
  },
  {
   "cell_type": "code",
   "execution_count": 22,
   "metadata": {},
   "outputs": [
    {
     "data": {
      "text/plain": [
       "array(['Boot', 'Pullover', 'Trouser'], dtype='<U8')"
      ]
     },
     "execution_count": 22,
     "metadata": {},
     "output_type": "execute_result"
    }
   ],
   "source": [
    "np.array(class_names)[y_test[:3]]"
   ]
  },
  {
   "cell_type": "markdown",
   "metadata": {},
   "source": [
    "Our model predicted right for these 3 instances."
   ]
  }
 ],
 "metadata": {
  "kernelspec": {
   "display_name": "Python 3 (ipykernel)",
   "language": "python",
   "name": "python3"
  },
  "language_info": {
   "codemirror_mode": {
    "name": "ipython",
    "version": 3
   },
   "file_extension": ".py",
   "mimetype": "text/x-python",
   "name": "python",
   "nbconvert_exporter": "python",
   "pygments_lexer": "ipython3",
   "version": "3.8.13"
  }
 },
 "nbformat": 4,
 "nbformat_minor": 4
}
