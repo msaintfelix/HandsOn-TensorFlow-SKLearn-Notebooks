{
 "cells": [
  {
   "cell_type": "code",
   "execution_count": 1,
   "metadata": {},
   "outputs": [],
   "source": [
    "import tensorflow as tf\n",
    "from tensorflow import keras\n",
    "import matplotlib.pyplot as plt\n",
    "import pandas as pd\n",
    "import numpy as np"
   ]
  },
  {
   "cell_type": "code",
   "execution_count": 2,
   "metadata": {},
   "outputs": [
    {
     "data": {
      "text/plain": [
       "'2.4.1'"
      ]
     },
     "execution_count": 2,
     "metadata": {},
     "output_type": "execute_result"
    }
   ],
   "source": [
    "tf.__version__"
   ]
  },
  {
   "cell_type": "markdown",
   "metadata": {},
   "source": [
    "Let's load the Fashion MNIST dataset from Keras:"
   ]
  },
  {
   "cell_type": "code",
   "execution_count": 3,
   "metadata": {},
   "outputs": [],
   "source": [
    "fashion_mnist = keras.datasets.fashion_mnist"
   ]
  },
  {
   "cell_type": "code",
   "execution_count": 4,
   "metadata": {},
   "outputs": [],
   "source": [
    "(X_train_full, y_train_full), (X_test, y_test) = fashion_mnist.load_data()"
   ]
  },
  {
   "cell_type": "markdown",
   "metadata": {},
   "source": [
    "Our training set consists of 60000 greyscale images (each pixel is an integer that ranges from 0 to 255), size 28x28."
   ]
  },
  {
   "cell_type": "code",
   "execution_count": 5,
   "metadata": {},
   "outputs": [
    {
     "name": "stdout",
     "output_type": "stream",
     "text": [
      "(60000, 28, 28)\n",
      "(60000,)\n"
     ]
    },
    {
     "data": {
      "text/plain": [
       "dtype('uint8')"
      ]
     },
     "execution_count": 5,
     "metadata": {},
     "output_type": "execute_result"
    }
   ],
   "source": [
    "print(X_train_full.shape)\n",
    "print(y_train_full.shape)\n",
    "X_train_full.dtype"
   ]
  },
  {
   "cell_type": "markdown",
   "metadata": {},
   "source": [
    "Our test set consists of 10000 greyscale images (each pixel is an integer that ranges from 0 to 255), size 28x28."
   ]
  },
  {
   "cell_type": "code",
   "execution_count": 6,
   "metadata": {},
   "outputs": [
    {
     "name": "stdout",
     "output_type": "stream",
     "text": [
      "(10000, 28, 28)\n",
      "(10000,)\n"
     ]
    },
    {
     "data": {
      "text/plain": [
       "dtype('uint8')"
      ]
     },
     "execution_count": 6,
     "metadata": {},
     "output_type": "execute_result"
    }
   ],
   "source": [
    "print(X_test.shape)\n",
    "print(y_test.shape)\n",
    "X_test.dtype"
   ]
  },
  {
   "cell_type": "markdown",
   "metadata": {},
   "source": [
    "As a best practice, it is important to create a validation set (we already have a training set and a test set). Also we are going to scale the input features (each pixel divided by 255.0) in order to use gradient descent properly."
   ]
  },
  {
   "cell_type": "code",
   "execution_count": 7,
   "metadata": {},
   "outputs": [],
   "source": [
    "X_valid, X_train = X_train_full[:5000]/255.0, X_train_full[5000:]/255.0\n",
    "y_valid, y_train = y_train_full[:5000], y_train_full[5000:]\n",
    "X_test = X_test/255.0"
   ]
  },
  {
   "cell_type": "markdown",
   "metadata": {},
   "source": [
    "Let's visualize one example of the training set:"
   ]
  },
  {
   "cell_type": "code",
   "execution_count": 8,
   "metadata": {},
   "outputs": [
    {
     "data": {
      "text/plain": [
       "<matplotlib.image.AxesImage at 0x7f89824225e0>"
      ]
     },
     "execution_count": 8,
     "metadata": {},
     "output_type": "execute_result"
    },
    {
     "data": {
      "image/png": "[encoded data removed]",
      "text/plain": [
       "<Figure size 432x288 with 1 Axes>"
      ]
     },
     "metadata": {
      "needs_background": "light"
     },
     "output_type": "display_data"
    }
   ],
   "source": [
    "plt.imshow(X_train[30], cmap='binary')"
   ]
  },
  {
   "cell_type": "markdown",
   "metadata": {},
   "source": [
    "Let's initialize a list of class names for MNIST (details of the dataset available via google):"
   ]
  },
  {
   "cell_type": "code",
   "execution_count": 9,
   "metadata": {},
   "outputs": [],
   "source": [
    "class_names = [\"T-shirt\", \"Trouser\", \"Pullover\", \"Dress\", \"Coat\", \"Sandal\", \"Shirt\", \"Sneaker\", \"Bag\", \"Boot\"]"
   ]
  },
  {
   "cell_type": "markdown",
   "metadata": {},
   "source": [
    "Now let's define our architecture by passing a list of layers to the Sequential model:"
   ]
  },
  {
   "cell_type": "code",
   "execution_count": 10,
   "metadata": {},
   "outputs": [],
   "source": [
    "model = keras.models.Sequential([\n",
    "    keras.layers.Flatten(input_shape=[28,28]),\n",
    "    keras.layers.Dense(300, activation='relu'),\n",
    "    keras.layers.Dense(100, activation='relu'),\n",
    "    keras.layers.Dense(10, activation='softmax')\n",
    "])"
   ]
  },
  {
   "cell_type": "markdown",
   "metadata": {},
   "source": [
    "Note: the Flatten() layer computes X.reshape(-1, 28*28)"
   ]
  },
  {
   "cell_type": "code",
   "execution_count": 11,
   "metadata": {
    "scrolled": true
   },
   "outputs": [
    {
     "name": "stdout",
     "output_type": "stream",
     "text": [
      "Model: \"sequential\"\n",
      "_________________________________________________________________\n",
      "Layer (type)                 Output Shape              Param #   \n",
      "=================================================================\n",
      "flatten (Flatten)            (None, 784)               0         \n",
      "_________________________________________________________________\n",
      "dense (Dense)                (None, 300)               235500    \n",
      "_________________________________________________________________\n",
      "dense_1 (Dense)              (None, 100)               30100     \n",
      "_________________________________________________________________\n",
      "dense_2 (Dense)              (None, 10)                1010      \n",
      "=================================================================\n",
      "Total params: 266,610\n",
      "Trainable params: 266,610\n",
      "Non-trainable params: 0\n",
      "_________________________________________________________________\n"
     ]
    }
   ],
   "source": [
    "model.summary()"
   ]
  },
  {
   "cell_type": "markdown",
   "metadata": {},
   "source": [
    "List of layers:"
   ]
  },
  {
   "cell_type": "code",
   "execution_count": 12,
   "metadata": {},
   "outputs": [
    {
     "data": {
      "text/plain": [
       "[<tensorflow.python.keras.layers.core.Flatten at 0x7f895f9c5c40>,\n",
       " <tensorflow.python.keras.layers.core.Dense at 0x7f895f9c5df0>,\n",
       " <tensorflow.python.keras.layers.core.Dense at 0x7f895fa16550>,\n",
       " <tensorflow.python.keras.layers.core.Dense at 0x7f895fa16880>]"
      ]
     },
     "execution_count": 12,
     "metadata": {},
     "output_type": "execute_result"
    }
   ],
   "source": [
    "model.layers"
   ]
  },
  {
   "cell_type": "markdown",
   "metadata": {},
   "source": [
    "Let's compile our model using a multi-label loss function: 'sparse_categorical_crossentropy' (as the classes are not one-hot-encoded). We are using a Stochastic Gradient Descent  with a default learning rate lr=0.01 to optimize 'accuracy' of our model:"
   ]
  },
  {
   "cell_type": "code",
   "execution_count": 13,
   "metadata": {},
   "outputs": [],
   "source": [
    "model.compile(loss=\"sparse_categorical_crossentropy\", optimizer=\"sgd\", metrics=[\"accuracy\"])"
   ]
  },
  {
   "cell_type": "markdown",
   "metadata": {},
   "source": [
    "Let's train our model on 30 epochs. We will pass the argument 'validation_data' on which Keras will measure the loss and accuracy at the end of each epoch to update all 266 610 parameters using Stochastic Gradient Descent. The default size of a batch is 32, each epoch will consists of 1719 batches of 32 examples to go through all 55000 examples every time. The model does not train on validation data but uses it to evaluate its performance and update parameters. Also, let's create a Callback that will save model checkpoints (in case of incidental interruption) and perform early stopping in case there is no more progress (after 3 epochs)."
   ]
  },
  {
   "cell_type": "code",
   "execution_count": 14,
   "metadata": {},
   "outputs": [],
   "source": [
    "checkpoint_cb = keras.callbacks.ModelCheckpoint(\"my_model.h5\")\n",
    "early_stopping_cb = keras.callbacks.EarlyStopping(monitor=\"val_loss\", patience=10, restore_best_weights=True)"
   ]
  },
  {
   "cell_type": "code",
   "execution_count": 15,
   "metadata": {},
   "outputs": [
    {
     "name": "stdout",
     "output_type": "stream",
     "text": [
      "Epoch 1/60\n",
      "1719/1719 [==============================] - 4s 2ms/step - loss: 1.0026 - accuracy: 0.6891 - val_loss: 0.5050 - val_accuracy: 0.8270\n",
      "Epoch 2/60\n",
      "1719/1719 [==============================] - 3s 2ms/step - loss: 0.4980 - accuracy: 0.8274 - val_loss: 0.4926 - val_accuracy: 0.8214\n",
      "Epoch 3/60\n",
      "1719/1719 [==============================] - 3s 2ms/step - loss: 0.4530 - accuracy: 0.8420 - val_loss: 0.4109 - val_accuracy: 0.8614\n",
      "Epoch 4/60\n",
      "1719/1719 [==============================] - 3s 2ms/step - loss: 0.4240 - accuracy: 0.8512 - val_loss: 0.4522 - val_accuracy: 0.8350\n",
      "Epoch 5/60\n",
      "1719/1719 [==============================] - 3s 2ms/step - loss: 0.4006 - accuracy: 0.8602 - val_loss: 0.3987 - val_accuracy: 0.8636\n",
      "Epoch 6/60\n",
      "1719/1719 [==============================] - 3s 2ms/step - loss: 0.3828 - accuracy: 0.8679 - val_loss: 0.3879 - val_accuracy: 0.8686\n",
      "Epoch 7/60\n",
      "1719/1719 [==============================] - 4s 3ms/step - loss: 0.3605 - accuracy: 0.8739 - val_loss: 0.3577 - val_accuracy: 0.8762\n",
      "Epoch 8/60\n",
      "1719/1719 [==============================] - 4s 2ms/step - loss: 0.3560 - accuracy: 0.8748 - val_loss: 0.3517 - val_accuracy: 0.8752\n",
      "Epoch 9/60\n",
      "1719/1719 [==============================] - 5s 3ms/step - loss: 0.3504 - accuracy: 0.8757 - val_loss: 0.3505 - val_accuracy: 0.8768\n",
      "Epoch 10/60\n",
      "1719/1719 [==============================] - 3s 2ms/step - loss: 0.3344 - accuracy: 0.8800 - val_loss: 0.3420 - val_accuracy: 0.8796\n",
      "Epoch 11/60\n",
      "1719/1719 [==============================] - 3s 2ms/step - loss: 0.3236 - accuracy: 0.8851 - val_loss: 0.3424 - val_accuracy: 0.8798\n",
      "Epoch 12/60\n",
      "1719/1719 [==============================] - 3s 2ms/step - loss: 0.3185 - accuracy: 0.8854 - val_loss: 0.3403 - val_accuracy: 0.8760\n",
      "Epoch 13/60\n",
      "1719/1719 [==============================] - 3s 2ms/step - loss: 0.3103 - accuracy: 0.8890 - val_loss: 0.3349 - val_accuracy: 0.8826\n",
      "Epoch 14/60\n",
      "1719/1719 [==============================] - 4s 2ms/step - loss: 0.3042 - accuracy: 0.8905 - val_loss: 0.3290 - val_accuracy: 0.8832\n",
      "Epoch 15/60\n",
      "1719/1719 [==============================] - 4s 2ms/step - loss: 0.2975 - accuracy: 0.8932 - val_loss: 0.3365 - val_accuracy: 0.8798\n",
      "Epoch 16/60\n",
      "1719/1719 [==============================] - 4s 2ms/step - loss: 0.2996 - accuracy: 0.8919 - val_loss: 0.3505 - val_accuracy: 0.8668\n",
      "Epoch 17/60\n",
      "1719/1719 [==============================] - 4s 2ms/step - loss: 0.2866 - accuracy: 0.8971 - val_loss: 0.3163 - val_accuracy: 0.8854\n",
      "Epoch 18/60\n",
      "1719/1719 [==============================] - 5s 3ms/step - loss: 0.2824 - accuracy: 0.8987 - val_loss: 0.3317 - val_accuracy: 0.8810\n",
      "Epoch 19/60\n",
      "1719/1719 [==============================] - 3s 2ms/step - loss: 0.2845 - accuracy: 0.8979 - val_loss: 0.3169 - val_accuracy: 0.8852\n",
      "Epoch 20/60\n",
      "1719/1719 [==============================] - 5s 3ms/step - loss: 0.2696 - accuracy: 0.9029 - val_loss: 0.3027 - val_accuracy: 0.8912\n",
      "Epoch 21/60\n",
      "1719/1719 [==============================] - 4s 2ms/step - loss: 0.2633 - accuracy: 0.9047 - val_loss: 0.3126 - val_accuracy: 0.8868\n",
      "Epoch 22/60\n",
      "1719/1719 [==============================] - 5s 3ms/step - loss: 0.2672 - accuracy: 0.9031 - val_loss: 0.3204 - val_accuracy: 0.8872\n",
      "Epoch 23/60\n",
      "1719/1719 [==============================] - 4s 2ms/step - loss: 0.2576 - accuracy: 0.9067 - val_loss: 0.3073 - val_accuracy: 0.8896\n",
      "Epoch 24/60\n",
      "1719/1719 [==============================] - 5s 3ms/step - loss: 0.2559 - accuracy: 0.9092 - val_loss: 0.3069 - val_accuracy: 0.8888\n",
      "Epoch 25/60\n",
      "1719/1719 [==============================] - 3s 2ms/step - loss: 0.2434 - accuracy: 0.9137 - val_loss: 0.3224 - val_accuracy: 0.8836\n",
      "Epoch 26/60\n",
      "1719/1719 [==============================] - 3s 2ms/step - loss: 0.2468 - accuracy: 0.9118 - val_loss: 0.2991 - val_accuracy: 0.8896\n",
      "Epoch 27/60\n",
      "1719/1719 [==============================] - 3s 2ms/step - loss: 0.2348 - accuracy: 0.9158 - val_loss: 0.3098 - val_accuracy: 0.8878\n",
      "Epoch 28/60\n",
      "1719/1719 [==============================] - 4s 2ms/step - loss: 0.2363 - accuracy: 0.9148 - val_loss: 0.2910 - val_accuracy: 0.8940\n",
      "Epoch 29/60\n",
      "1719/1719 [==============================] - 4s 2ms/step - loss: 0.2321 - accuracy: 0.9179 - val_loss: 0.3170 - val_accuracy: 0.8886\n",
      "Epoch 30/60\n",
      "1719/1719 [==============================] - 3s 2ms/step - loss: 0.2261 - accuracy: 0.9185 - val_loss: 0.2944 - val_accuracy: 0.8942\n",
      "Epoch 31/60\n",
      "1719/1719 [==============================] - 3s 2ms/step - loss: 0.2236 - accuracy: 0.9210 - val_loss: 0.3108 - val_accuracy: 0.8866\n",
      "Epoch 32/60\n",
      "1719/1719 [==============================] - 3s 2ms/step - loss: 0.2222 - accuracy: 0.9207 - val_loss: 0.2951 - val_accuracy: 0.8928\n",
      "Epoch 33/60\n",
      "1719/1719 [==============================] - 3s 2ms/step - loss: 0.2153 - accuracy: 0.9214 - val_loss: 0.2950 - val_accuracy: 0.8928\n",
      "Epoch 34/60\n",
      "1719/1719 [==============================] - 3s 2ms/step - loss: 0.2123 - accuracy: 0.9253 - val_loss: 0.3064 - val_accuracy: 0.8898\n",
      "Epoch 35/60\n",
      "1719/1719 [==============================] - 5s 3ms/step - loss: 0.2124 - accuracy: 0.9239 - val_loss: 0.2912 - val_accuracy: 0.8926\n",
      "Epoch 36/60\n",
      "1719/1719 [==============================] - 7s 4ms/step - loss: 0.2066 - accuracy: 0.9257 - val_loss: 0.3245 - val_accuracy: 0.8800\n",
      "Epoch 37/60\n",
      "1719/1719 [==============================] - 4s 2ms/step - loss: 0.2000 - accuracy: 0.9288 - val_loss: 0.3077 - val_accuracy: 0.8896\n",
      "Epoch 38/60\n",
      "1719/1719 [==============================] - 4s 2ms/step - loss: 0.1966 - accuracy: 0.9316 - val_loss: 0.3046 - val_accuracy: 0.8924\n"
     ]
    }
   ],
   "source": [
    "history = model.fit(X_train, y_train, epochs=60, validation_data=(X_valid, y_valid), callbacks=[checkpoint_cb, early_stopping_cb])"
   ]
  },
  {
   "cell_type": "code",
   "execution_count": 16,
   "metadata": {},
   "outputs": [
    {
     "data": {
      "text/plain": [
       "<AxesSubplot:>"
      ]
     },
     "execution_count": 16,
     "metadata": {},
     "output_type": "execute_result"
    },
    {
     "data": {
      "image/png": "[encoded data removed]",
      "text/plain": [
       "<Figure size 576x360 with 1 Axes>"
      ]
     },
     "metadata": {
      "needs_background": "light"
     },
     "output_type": "display_data"
    }
   ],
   "source": [
    "pd.DataFrame(history.history).plot(figsize=(8,5))"
   ]
  },
  {
   "cell_type": "markdown",
   "metadata": {},
   "source": [
    "We can observe that training stopped at epoch 38/60, due to lack of progress of the val_loss metric. The training and validation metrics remain in similar performance ranges, indicating there is no overfitting and our model is acceptable."
   ]
  },
  {
   "cell_type": "code",
   "execution_count": 17,
   "metadata": {},
   "outputs": [],
   "source": [
    "# Roll back the model in case of incidental training interruption:\n",
    "#model = keras.models.load_model(\"my_model.h5\")"
   ]
  },
  {
   "cell_type": "markdown",
   "metadata": {},
   "source": [
    "Let's estimate the generalization error on the test set:"
   ]
  },
  {
   "cell_type": "code",
   "execution_count": 18,
   "metadata": {},
   "outputs": [
    {
     "name": "stdout",
     "output_type": "stream",
     "text": [
      "313/313 [==============================] - 0s 1ms/step - loss: 0.3255 - accuracy: 0.8817\n"
     ]
    },
    {
     "data": {
      "text/plain": [
       "[0.3254967927932739, 0.8816999793052673]"
      ]
     },
     "execution_count": 18,
     "metadata": {},
     "output_type": "execute_result"
    }
   ],
   "source": [
    "model.evaluate(X_test, y_test)"
   ]
  },
  {
   "cell_type": "markdown",
   "metadata": {},
   "source": [
    "This resulat is final and gives a clear indication of performance with real-world production data."
   ]
  },
  {
   "cell_type": "markdown",
   "metadata": {},
   "source": [
    "Let's make predictions for a few instances:"
   ]
  },
  {
   "cell_type": "code",
   "execution_count": 19,
   "metadata": {},
   "outputs": [
    {
     "data": {
      "text/plain": [
       "array([[0.  , 0.  , 0.  , 0.  , 0.  , 0.01, 0.  , 0.01, 0.  , 0.98],\n",
       "       [0.  , 0.  , 0.99, 0.  , 0.01, 0.  , 0.  , 0.  , 0.  , 0.  ],\n",
       "       [0.  , 1.  , 0.  , 0.  , 0.  , 0.  , 0.  , 0.  , 0.  , 0.  ]],\n",
       "      dtype=float32)"
      ]
     },
     "execution_count": 19,
     "metadata": {},
     "output_type": "execute_result"
    }
   ],
   "source": [
    "y_pred = model.predict(X_test[:3])\n",
    "y_pred = y_pred.round(2)\n",
    "y_pred"
   ]
  },
  {
   "cell_type": "markdown",
   "metadata": {},
   "source": [
    "Each instance (row) shows a series of ten probabilities for all 10 classes, the highest column being the most likely class. Now let's convert them into class names:"
   ]
  },
  {
   "cell_type": "code",
   "execution_count": 20,
   "metadata": {},
   "outputs": [
    {
     "data": {
      "text/plain": [
       "array(['Boot', 'Pullover', 'Trouser'], dtype='<U8')"
      ]
     },
     "execution_count": 20,
     "metadata": {},
     "output_type": "execute_result"
    }
   ],
   "source": [
    "idx = np.argmax(y_pred, axis=1)\n",
    "np.array(class_names)[idx]"
   ]
  },
  {
   "cell_type": "markdown",
   "metadata": {},
   "source": [
    "Let's compare these predictions to ground truth:"
   ]
  },
  {
   "cell_type": "code",
   "execution_count": 21,
   "metadata": {},
   "outputs": [
    {
     "data": {
      "text/plain": [
       "array(['Boot', 'Pullover', 'Trouser'], dtype='<U8')"
      ]
     },
     "execution_count": 21,
     "metadata": {},
     "output_type": "execute_result"
    }
   ],
   "source": [
    "np.array(class_names)[y_test[:3]]"
   ]
  },
  {
   "cell_type": "markdown",
   "metadata": {},
   "source": [
    "Our model predicted right for these 3 instances."
   ]
  }
 ],
 "metadata": {
  "kernelspec": {
   "display_name": "Python 3",
   "language": "python",
   "name": "python3"
  },
  "language_info": {
   "codemirror_mode": {
    "name": "ipython",
    "version": 3
   },
   "file_extension": ".py",
   "mimetype": "text/x-python",
   "name": "python",
   "nbconvert_exporter": "python",
   "pygments_lexer": "ipython3",
   "version": "3.8.5"
  }
 },
 "nbformat": 4,
 "nbformat_minor": 4
}
