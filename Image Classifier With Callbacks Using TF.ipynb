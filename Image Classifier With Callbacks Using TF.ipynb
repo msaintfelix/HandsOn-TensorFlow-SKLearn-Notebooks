{
 "cells": [
  {
   "cell_type": "code",
   "execution_count": 1,
   "metadata": {},
   "outputs": [],
   "source": [
    "import os\n",
    "import time\n",
    "import tensorflow as tf\n",
    "from tensorflow import keras\n",
    "import matplotlib.pyplot as plt\n",
    "import pandas as pd\n",
    "import numpy as np"
   ]
  },
  {
   "cell_type": "code",
   "execution_count": 2,
   "metadata": {},
   "outputs": [
    {
     "data": {
      "text/plain": [
       "'2.4.1'"
      ]
     },
     "execution_count": 2,
     "metadata": {},
     "output_type": "execute_result"
    }
   ],
   "source": [
    "tf.__version__"
   ]
  },
  {
   "cell_type": "markdown",
   "metadata": {},
   "source": [
    "Let's load the Fashion MNIST dataset from Keras:"
   ]
  },
  {
   "cell_type": "code",
   "execution_count": 3,
   "metadata": {},
   "outputs": [],
   "source": [
    "fashion_mnist = keras.datasets.fashion_mnist"
   ]
  },
  {
   "cell_type": "code",
   "execution_count": 4,
   "metadata": {},
   "outputs": [],
   "source": [
    "(X_train_full, y_train_full), (X_test, y_test) = fashion_mnist.load_data()"
   ]
  },
  {
   "cell_type": "markdown",
   "metadata": {},
   "source": [
    "Our training set consists of 60000 greyscale images (each pixel is an integer that ranges from 0 to 255), size 28x28."
   ]
  },
  {
   "cell_type": "code",
   "execution_count": 5,
   "metadata": {},
   "outputs": [
    {
     "name": "stdout",
     "output_type": "stream",
     "text": [
      "(60000, 28, 28)\n",
      "(60000,)\n"
     ]
    },
    {
     "data": {
      "text/plain": [
       "dtype('uint8')"
      ]
     },
     "execution_count": 5,
     "metadata": {},
     "output_type": "execute_result"
    }
   ],
   "source": [
    "print(X_train_full.shape)\n",
    "print(y_train_full.shape)\n",
    "X_train_full.dtype"
   ]
  },
  {
   "cell_type": "markdown",
   "metadata": {},
   "source": [
    "Our test set consists of 10000 greyscale images (each pixel is an integer that ranges from 0 to 255), size 28x28."
   ]
  },
  {
   "cell_type": "code",
   "execution_count": 6,
   "metadata": {},
   "outputs": [
    {
     "name": "stdout",
     "output_type": "stream",
     "text": [
      "(10000, 28, 28)\n",
      "(10000,)\n"
     ]
    },
    {
     "data": {
      "text/plain": [
       "dtype('uint8')"
      ]
     },
     "execution_count": 6,
     "metadata": {},
     "output_type": "execute_result"
    }
   ],
   "source": [
    "print(X_test.shape)\n",
    "print(y_test.shape)\n",
    "X_test.dtype"
   ]
  },
  {
   "cell_type": "markdown",
   "metadata": {},
   "source": [
    "As a best practice, it is important to create a validation set (we already have a training set and a test set). Also we are going to scale the input features (each pixel divided by 255.0) in order to use gradient descent properly."
   ]
  },
  {
   "cell_type": "code",
   "execution_count": 7,
   "metadata": {},
   "outputs": [],
   "source": [
    "X_valid, X_train = X_train_full[:5000]/255.0, X_train_full[5000:]/255.0\n",
    "y_valid, y_train = y_train_full[:5000], y_train_full[5000:]\n",
    "X_test = X_test/255.0"
   ]
  },
  {
   "cell_type": "markdown",
   "metadata": {},
   "source": [
    "Let's visualize one example of the training set:"
   ]
  },
  {
   "cell_type": "code",
   "execution_count": 8,
   "metadata": {},
   "outputs": [
    {
     "data": {
      "text/plain": [
       "<matplotlib.image.AxesImage at 0x7f8d96324640>"
      ]
     },
     "execution_count": 8,
     "metadata": {},
     "output_type": "execute_result"
    },
    {
     "data": {
      "image/png": "[encoded data removed]",
      "text/plain": [
       "<Figure size 432x288 with 1 Axes>"
      ]
     },
     "metadata": {
      "needs_background": "light"
     },
     "output_type": "display_data"
    }
   ],
   "source": [
    "plt.imshow(X_train[30], cmap='binary')"
   ]
  },
  {
   "cell_type": "markdown",
   "metadata": {},
   "source": [
    "Let's initialize a list of class names for MNIST (details of the dataset available via google):"
   ]
  },
  {
   "cell_type": "code",
   "execution_count": 9,
   "metadata": {},
   "outputs": [],
   "source": [
    "class_names = [\"T-shirt\", \"Trouser\", \"Pullover\", \"Dress\", \"Coat\", \"Sandal\", \"Shirt\", \"Sneaker\", \"Bag\", \"Boot\"]"
   ]
  },
  {
   "cell_type": "markdown",
   "metadata": {},
   "source": [
    "Now let's define our architecture by passing a list of layers to the Sequential model:"
   ]
  },
  {
   "cell_type": "code",
   "execution_count": 10,
   "metadata": {},
   "outputs": [],
   "source": [
    "model = keras.models.Sequential([\n",
    "    keras.layers.Flatten(input_shape=[28,28]),\n",
    "    keras.layers.Dense(300, activation='relu'),\n",
    "    keras.layers.Dense(100, activation='relu'),\n",
    "    keras.layers.Dense(10, activation='softmax')\n",
    "])"
   ]
  },
  {
   "cell_type": "markdown",
   "metadata": {},
   "source": [
    "Note: the Flatten() layer computes X.reshape(-1, 28*28)"
   ]
  },
  {
   "cell_type": "code",
   "execution_count": 11,
   "metadata": {
    "scrolled": true
   },
   "outputs": [
    {
     "name": "stdout",
     "output_type": "stream",
     "text": [
      "Model: \"sequential\"\n",
      "_________________________________________________________________\n",
      "Layer (type)                 Output Shape              Param #   \n",
      "=================================================================\n",
      "flatten (Flatten)            (None, 784)               0         \n",
      "_________________________________________________________________\n",
      "dense (Dense)                (None, 300)               235500    \n",
      "_________________________________________________________________\n",
      "dense_1 (Dense)              (None, 100)               30100     \n",
      "_________________________________________________________________\n",
      "dense_2 (Dense)              (None, 10)                1010      \n",
      "=================================================================\n",
      "Total params: 266,610\n",
      "Trainable params: 266,610\n",
      "Non-trainable params: 0\n",
      "_________________________________________________________________\n"
     ]
    }
   ],
   "source": [
    "model.summary()"
   ]
  },
  {
   "cell_type": "markdown",
   "metadata": {},
   "source": [
    "List of layers:"
   ]
  },
  {
   "cell_type": "code",
   "execution_count": 12,
   "metadata": {},
   "outputs": [
    {
     "data": {
      "text/plain": [
       "[<tensorflow.python.keras.layers.core.Flatten at 0x7f8d731f9340>,\n",
       " <tensorflow.python.keras.layers.core.Dense at 0x7f8d73218250>,\n",
       " <tensorflow.python.keras.layers.core.Dense at 0x7f8d732185b0>,\n",
       " <tensorflow.python.keras.layers.core.Dense at 0x7f8d732188e0>]"
      ]
     },
     "execution_count": 12,
     "metadata": {},
     "output_type": "execute_result"
    }
   ],
   "source": [
    "model.layers"
   ]
  },
  {
   "cell_type": "markdown",
   "metadata": {},
   "source": [
    "Let's compile our model using a multi-label loss function: 'sparse_categorical_crossentropy' (as the classes are not one-hot-encoded). We are using a Stochastic Gradient Descent  with a default learning rate lr=0.01 to optimize 'accuracy' of our model:"
   ]
  },
  {
   "cell_type": "code",
   "execution_count": 13,
   "metadata": {},
   "outputs": [],
   "source": [
    "model.compile(loss=\"sparse_categorical_crossentropy\", optimizer=\"sgd\", metrics=[\"accuracy\"])"
   ]
  },
  {
   "cell_type": "code",
   "execution_count": 14,
   "metadata": {},
   "outputs": [],
   "source": [
    "root_logdir = os.path.join(os.curdir, \"logs\")\n",
    "run_id = time.strftime(\"run_%Y_%m_%d-%H_%M_%S\")\n",
    "run_logdir = os.path.join(root_logdir, run_id)"
   ]
  },
  {
   "cell_type": "markdown",
   "metadata": {},
   "source": [
    "Let's train our model on 30 epochs. We will pass the argument 'validation_data' on which Keras will measure the loss and accuracy at the end of each epoch to update all 266 610 parameters using Stochastic Gradient Descent. The default size of a batch is 32, each epoch will consists of 1719 batches of 32 examples to go through all 55000 examples every time. The model does not train on validation data but uses it to evaluate its performance and update parameters. Also, let's create a Callback that will save model checkpoints (in case of incidental interruption) and perform early stopping in case there is no more progress (after 3 epochs)."
   ]
  },
  {
   "cell_type": "code",
   "execution_count": 15,
   "metadata": {},
   "outputs": [],
   "source": [
    "checkpoint_cb = keras.callbacks.ModelCheckpoint(\"my_model.h5\")\n",
    "early_stopping_cb = keras.callbacks.EarlyStopping(monitor=\"val_loss\", patience=10, restore_best_weights=True)\n",
    "tensorboard_cb = keras.callbacks.TensorBoard()"
   ]
  },
  {
   "cell_type": "code",
   "execution_count": 25,
   "metadata": {},
   "outputs": [
    {
     "name": "stdout",
     "output_type": "stream",
     "text": [
      "The tensorboard extension is already loaded. To reload it, use:\n",
      "  %reload_ext tensorboard\n"
     ]
    },
    {
     "data": {
      "text/html": [
       "\n",
       "      <iframe id=\"tensorboard-frame-b158aa4475f9a322\" width=\"100%\" height=\"800\" frameborder=\"0\">\n",
       "      </iframe>\n",
       "      <script>\n",
       "        (function() {\n",
       "          const frame = document.getElementById(\"tensorboard-frame-b158aa4475f9a322\");\n",
       "          const url = new URL(\"/\", window.location);\n",
       "          const port = 6006;\n",
       "          if (port) {\n",
       "            url.port = port;\n",
       "          }\n",
       "          frame.src = url;\n",
       "        })();\n",
       "      </script>\n",
       "    "
      ],
      "text/plain": [
       "<IPython.core.display.HTML object>"
      ]
     },
     "metadata": {},
     "output_type": "display_data"
    }
   ],
   "source": [
    "# Load the TensorBoard extension and server on port 6006\n",
    "%load_ext tensorboard\n",
    "#%tensorboard --logdir=./logs --port=6006"
   ]
  },
  {
   "cell_type": "code",
   "execution_count": 17,
   "metadata": {},
   "outputs": [
    {
     "name": "stdout",
     "output_type": "stream",
     "text": [
      "Epoch 1/60\n",
      "1719/1719 [==============================] - 5s 2ms/step - loss: 1.0055 - accuracy: 0.6818 - val_loss: 0.5061 - val_accuracy: 0.8300\n",
      "Epoch 2/60\n",
      "1719/1719 [==============================] - 3s 2ms/step - loss: 0.5108 - accuracy: 0.8197 - val_loss: 0.4471 - val_accuracy: 0.8426\n",
      "Epoch 3/60\n",
      "1719/1719 [==============================] - 3s 2ms/step - loss: 0.4483 - accuracy: 0.8432 - val_loss: 0.4241 - val_accuracy: 0.8528\n",
      "Epoch 4/60\n",
      "1719/1719 [==============================] - 3s 2ms/step - loss: 0.4218 - accuracy: 0.8501 - val_loss: 0.3973 - val_accuracy: 0.8620\n",
      "Epoch 5/60\n",
      "1719/1719 [==============================] - 4s 2ms/step - loss: 0.3998 - accuracy: 0.8596 - val_loss: 0.3916 - val_accuracy: 0.8648\n",
      "Epoch 6/60\n",
      "1719/1719 [==============================] - 6s 3ms/step - loss: 0.3832 - accuracy: 0.8630 - val_loss: 0.3693 - val_accuracy: 0.8744\n",
      "Epoch 7/60\n",
      "1719/1719 [==============================] - 4s 2ms/step - loss: 0.3750 - accuracy: 0.8689 - val_loss: 0.3659 - val_accuracy: 0.8706\n",
      "Epoch 8/60\n",
      "1719/1719 [==============================] - 3s 2ms/step - loss: 0.3564 - accuracy: 0.8723 - val_loss: 0.3577 - val_accuracy: 0.8774\n",
      "Epoch 9/60\n",
      "1719/1719 [==============================] - 3s 2ms/step - loss: 0.3470 - accuracy: 0.8768 - val_loss: 0.4016 - val_accuracy: 0.8564\n",
      "Epoch 10/60\n",
      "1719/1719 [==============================] - 3s 2ms/step - loss: 0.3369 - accuracy: 0.8782 - val_loss: 0.3542 - val_accuracy: 0.8712\n",
      "Epoch 11/60\n",
      "1719/1719 [==============================] - 4s 2ms/step - loss: 0.3292 - accuracy: 0.8831 - val_loss: 0.3441 - val_accuracy: 0.8730\n",
      "Epoch 12/60\n",
      "1719/1719 [==============================] - 3s 2ms/step - loss: 0.3161 - accuracy: 0.8866 - val_loss: 0.3349 - val_accuracy: 0.8778\n",
      "Epoch 13/60\n",
      "1719/1719 [==============================] - 3s 2ms/step - loss: 0.3136 - accuracy: 0.8879 - val_loss: 0.3456 - val_accuracy: 0.8770\n",
      "Epoch 14/60\n",
      "1719/1719 [==============================] - 3s 2ms/step - loss: 0.3063 - accuracy: 0.8900 - val_loss: 0.3453 - val_accuracy: 0.8772\n",
      "Epoch 15/60\n",
      "1719/1719 [==============================] - 3s 2ms/step - loss: 0.3005 - accuracy: 0.8918 - val_loss: 0.3245 - val_accuracy: 0.8832\n",
      "Epoch 16/60\n",
      "1719/1719 [==============================] - 3s 2ms/step - loss: 0.2985 - accuracy: 0.8928 - val_loss: 0.3264 - val_accuracy: 0.8850\n",
      "Epoch 17/60\n",
      "1719/1719 [==============================] - 3s 2ms/step - loss: 0.2848 - accuracy: 0.8971 - val_loss: 0.3150 - val_accuracy: 0.8882\n",
      "Epoch 18/60\n",
      "1719/1719 [==============================] - 3s 2ms/step - loss: 0.2820 - accuracy: 0.8973 - val_loss: 0.3417 - val_accuracy: 0.8778\n",
      "Epoch 19/60\n",
      "1719/1719 [==============================] - 3s 2ms/step - loss: 0.2771 - accuracy: 0.9011 - val_loss: 0.3118 - val_accuracy: 0.8880\n",
      "Epoch 20/60\n",
      "1719/1719 [==============================] - 3s 2ms/step - loss: 0.2654 - accuracy: 0.9036 - val_loss: 0.3204 - val_accuracy: 0.8854\n",
      "Epoch 21/60\n",
      "1719/1719 [==============================] - 3s 2ms/step - loss: 0.2654 - accuracy: 0.9028 - val_loss: 0.3118 - val_accuracy: 0.8892\n",
      "Epoch 22/60\n",
      "1719/1719 [==============================] - 3s 2ms/step - loss: 0.2688 - accuracy: 0.9031 - val_loss: 0.3140 - val_accuracy: 0.8868\n",
      "Epoch 23/60\n",
      "1719/1719 [==============================] - 3s 2ms/step - loss: 0.2552 - accuracy: 0.9077 - val_loss: 0.3161 - val_accuracy: 0.8856\n",
      "Epoch 24/60\n",
      "1719/1719 [==============================] - 3s 2ms/step - loss: 0.2550 - accuracy: 0.9089 - val_loss: 0.3393 - val_accuracy: 0.8736 0.2551 - accuracy\n",
      "Epoch 25/60\n",
      "1719/1719 [==============================] - 3s 2ms/step - loss: 0.2483 - accuracy: 0.9104 - val_loss: 0.2954 - val_accuracy: 0.8932\n",
      "Epoch 26/60\n",
      "1719/1719 [==============================] - 3s 2ms/step - loss: 0.2483 - accuracy: 0.9121 - val_loss: 0.3201 - val_accuracy: 0.8832\n",
      "Epoch 27/60\n",
      "1719/1719 [==============================] - 3s 2ms/step - loss: 0.2451 - accuracy: 0.9120 - val_loss: 0.3070 - val_accuracy: 0.8896\n",
      "Epoch 28/60\n",
      "1719/1719 [==============================] - 3s 2ms/step - loss: 0.2324 - accuracy: 0.9170 - val_loss: 0.3133 - val_accuracy: 0.8874\n",
      "Epoch 29/60\n",
      "1719/1719 [==============================] - 3s 2ms/step - loss: 0.2347 - accuracy: 0.9146 - val_loss: 0.3109 - val_accuracy: 0.8866\n",
      "Epoch 30/60\n",
      "1719/1719 [==============================] - 3s 2ms/step - loss: 0.2301 - accuracy: 0.9174 - val_loss: 0.2925 - val_accuracy: 0.8926\n",
      "Epoch 31/60\n",
      "1719/1719 [==============================] - 3s 2ms/step - loss: 0.2256 - accuracy: 0.9185 - val_loss: 0.3176 - val_accuracy: 0.8850\n",
      "Epoch 32/60\n",
      "1719/1719 [==============================] - 3s 2ms/step - loss: 0.2193 - accuracy: 0.9220 - val_loss: 0.3293 - val_accuracy: 0.8818\n",
      "Epoch 33/60\n",
      "1719/1719 [==============================] - 3s 2ms/step - loss: 0.2168 - accuracy: 0.9215 - val_loss: 0.3052 - val_accuracy: 0.8934\n",
      "Epoch 34/60\n",
      "1719/1719 [==============================] - 3s 2ms/step - loss: 0.2133 - accuracy: 0.9232 - val_loss: 0.3198 - val_accuracy: 0.8838\n",
      "Epoch 35/60\n",
      "1719/1719 [==============================] - 3s 2ms/step - loss: 0.2111 - accuracy: 0.9234 - val_loss: 0.3029 - val_accuracy: 0.8926\n",
      "Epoch 36/60\n",
      "1719/1719 [==============================] - 4s 2ms/step - loss: 0.2097 - accuracy: 0.9251 - val_loss: 0.2999 - val_accuracy: 0.8950\n",
      "Epoch 37/60\n",
      "1719/1719 [==============================] - 4s 2ms/step - loss: 0.2041 - accuracy: 0.9254 - val_loss: 0.2981 - val_accuracy: 0.8932\n",
      "Epoch 38/60\n",
      "1719/1719 [==============================] - 4s 2ms/step - loss: 0.1986 - accuracy: 0.9294 - val_loss: 0.2974 - val_accuracy: 0.8978\n",
      "Epoch 39/60\n",
      "1719/1719 [==============================] - 4s 2ms/step - loss: 0.1949 - accuracy: 0.9301 - val_loss: 0.2976 - val_accuracy: 0.8900\n",
      "Epoch 40/60\n",
      "1719/1719 [==============================] - 4s 2ms/step - loss: 0.1944 - accuracy: 0.9311 - val_loss: 0.3004 - val_accuracy: 0.8920\n"
     ]
    }
   ],
   "source": [
    "history = model.fit(X_train, y_train, epochs=60, validation_data=(X_valid, y_valid), callbacks=[checkpoint_cb, early_stopping_cb, tensorboard_cb])"
   ]
  },
  {
   "cell_type": "code",
   "execution_count": 18,
   "metadata": {},
   "outputs": [
    {
     "data": {
      "text/plain": [
       "<AxesSubplot:>"
      ]
     },
     "execution_count": 18,
     "metadata": {},
     "output_type": "execute_result"
    },
    {
     "data": {
      "image/png": "[encoded data removed]",
      "text/plain": [
       "<Figure size 576x360 with 1 Axes>"
      ]
     },
     "metadata": {
      "needs_background": "light"
     },
     "output_type": "display_data"
    }
   ],
   "source": [
    "pd.DataFrame(history.history).plot(figsize=(8,5))"
   ]
  },
  {
   "cell_type": "markdown",
   "metadata": {},
   "source": [
    "We can observe that training stopped at epoch 38/60, due to lack of progress of the val_loss metric. The training and validation metrics remain in similar performance ranges, indicating there is no overfitting and our model is acceptable."
   ]
  },
  {
   "cell_type": "code",
   "execution_count": 19,
   "metadata": {},
   "outputs": [],
   "source": [
    "# Roll back the model in case of incidental training interruption:\n",
    "#model = keras.models.load_model(\"my_model.h5\")"
   ]
  },
  {
   "cell_type": "markdown",
   "metadata": {},
   "source": [
    "Let's estimate the generalization error on the test set:"
   ]
  },
  {
   "cell_type": "code",
   "execution_count": 20,
   "metadata": {},
   "outputs": [
    {
     "name": "stdout",
     "output_type": "stream",
     "text": [
      "313/313 [==============================] - 0s 1ms/step - loss: 0.3224 - accuracy: 0.8866\n"
     ]
    },
    {
     "data": {
      "text/plain": [
       "[0.3223694860935211, 0.8866000175476074]"
      ]
     },
     "execution_count": 20,
     "metadata": {},
     "output_type": "execute_result"
    }
   ],
   "source": [
    "model.evaluate(X_test, y_test)"
   ]
  },
  {
   "cell_type": "markdown",
   "metadata": {},
   "source": [
    "This resulat is final and gives a clear indication of performance with real-world production data."
   ]
  },
  {
   "cell_type": "markdown",
   "metadata": {},
   "source": [
    "Let's make predictions for a few instances:"
   ]
  },
  {
   "cell_type": "code",
   "execution_count": 21,
   "metadata": {},
   "outputs": [
    {
     "data": {
      "text/plain": [
       "array([[0.  , 0.  , 0.  , 0.  , 0.  , 0.  , 0.  , 0.01, 0.  , 0.99],\n",
       "       [0.  , 0.  , 0.99, 0.  , 0.01, 0.  , 0.  , 0.  , 0.  , 0.  ],\n",
       "       [0.  , 1.  , 0.  , 0.  , 0.  , 0.  , 0.  , 0.  , 0.  , 0.  ]],\n",
       "      dtype=float32)"
      ]
     },
     "execution_count": 21,
     "metadata": {},
     "output_type": "execute_result"
    }
   ],
   "source": [
    "y_pred = model.predict(X_test[:3])\n",
    "y_pred = y_pred.round(2)\n",
    "y_pred"
   ]
  },
  {
   "cell_type": "markdown",
   "metadata": {},
   "source": [
    "Each instance (row) shows a series of ten probabilities for all 10 classes, the highest column being the most likely class. Now let's convert them into class names:"
   ]
  },
  {
   "cell_type": "code",
   "execution_count": 22,
   "metadata": {},
   "outputs": [
    {
     "data": {
      "text/plain": [
       "array(['Boot', 'Pullover', 'Trouser'], dtype='<U8')"
      ]
     },
     "execution_count": 22,
     "metadata": {},
     "output_type": "execute_result"
    }
   ],
   "source": [
    "idx = np.argmax(y_pred, axis=1)\n",
    "np.array(class_names)[idx]"
   ]
  },
  {
   "cell_type": "markdown",
   "metadata": {},
   "source": [
    "Let's compare these predictions to ground truth:"
   ]
  },
  {
   "cell_type": "code",
   "execution_count": 23,
   "metadata": {},
   "outputs": [
    {
     "data": {
      "text/plain": [
       "array(['Boot', 'Pullover', 'Trouser'], dtype='<U8')"
      ]
     },
     "execution_count": 23,
     "metadata": {},
     "output_type": "execute_result"
    }
   ],
   "source": [
    "np.array(class_names)[y_test[:3]]"
   ]
  },
  {
   "cell_type": "markdown",
   "metadata": {},
   "source": [
    "Our model predicted right for these 3 instances."
   ]
  }
 ],
 "metadata": {
  "kernelspec": {
   "display_name": "Python 3",
   "language": "python",
   "name": "python3"
  },
  "language_info": {
   "codemirror_mode": {
    "name": "ipython",
    "version": 3
   },
   "file_extension": ".py",
   "mimetype": "text/x-python",
   "name": "python",
   "nbconvert_exporter": "python",
   "pygments_lexer": "ipython3",
   "version": "3.8.5"
  }
 },
 "nbformat": 4,
 "nbformat_minor": 4
}
